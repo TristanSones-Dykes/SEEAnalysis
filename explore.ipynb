{
 "cells": [
  {
   "cell_type": "code",
   "execution_count": 8,
   "metadata": {},
   "outputs": [],
   "source": [
    "import pandas as pd\n",
    "import numpy as np\n",
    "import matplotlib.pyplot as plt\n",
    "import os\n",
    "\n",
    "# enter \"dat\" directory, enter all subdirectories with name ending in \"1\",\"2\",\"3\" and load all csv files\n",
    "# with name n into a list of dataframes\n",
    "def load_data(n: str):\n",
    "    data = []\n",
    "    for root, dirs, files in os.walk(\"dat\"):\n",
    "        for dir in dirs:\n",
    "            if dir[-1] in [\"1\",\"2\",\"3\"]:\n",
    "                for file in os.listdir(os.path.join(root,dir)):\n",
    "                    if file == n:\n",
    "                        data.append(pd.read_csv(os.path.join(root,dir,file)))\n",
    "    return data"
   ]
  },
  {
   "cell_type": "code",
   "execution_count": 12,
   "metadata": {},
   "outputs": [],
   "source": [
    "populations = load_data(\"population.csv\")\n",
    "experiment_data = load_data(\"experiment.csv\")"
   ]
  },
  {
   "cell_type": "code",
   "execution_count": 4,
   "metadata": {},
   "outputs": [
    {
     "data": {
      "text/plain": [
       "90"
      ]
     },
     "execution_count": 4,
     "metadata": {},
     "output_type": "execute_result"
    }
   ],
   "source": []
  },
  {
   "cell_type": "code",
   "execution_count": null,
   "metadata": {},
   "outputs": [],
   "source": []
  }
 ],
 "metadata": {
  "kernelspec": {
   "display_name": "ML",
   "language": "python",
   "name": "python3"
  },
  "language_info": {
   "codemirror_mode": {
    "name": "ipython",
    "version": 3
   },
   "file_extension": ".py",
   "mimetype": "text/x-python",
   "name": "python",
   "nbconvert_exporter": "python",
   "pygments_lexer": "ipython3",
   "version": "3.10.4"
  },
  "orig_nbformat": 4,
  "vscode": {
   "interpreter": {
    "hash": "c7800c1602e804119a7845c43c657b7c86d037f3d695d8e15bda7bb1bd4c01f9"
   }
  }
 },
 "nbformat": 4,
 "nbformat_minor": 2
}
